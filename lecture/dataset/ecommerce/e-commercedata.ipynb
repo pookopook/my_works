{
 "cells": [
  {
   "cell_type": "markdown",
   "metadata": {},
   "source": [
    "# e커머스 데이터\n",
    "\n",
    "https://www.kaggle.com/datasets/benroshan/ecommerce-data"
   ]
  },
  {
   "cell_type": "markdown",
   "metadata": {},
   "source": [
    "### About Dataset\n",
    "About Dataset\n",
    "Hello\n",
    "Ever been excited to see a sales dataset ? Well, this data is perfectly curated to perform sales analysis. We have an e-commerce sales dataset from India with 3 csv files -List of Orders, Order details, Sales target\n",
    "\n",
    "What's inside?\n",
    "List of Orders-This dataset contains purchase information. The information includes ID, Date of Purchase and customer details\n",
    "Order Details- This dataset contains order ID, with the order price, quantity,profit, category and subcategory of product\n",
    "Sales target-This dataset contains sales target amount and date for each product category\n",
    "Acknowledgements\n",
    "Dataset received from my University, Original Author unknown"
   ]
  },
  {
   "cell_type": "markdown",
   "metadata": {},
   "source": [
    "# 데이터셋 다운로드, 준비"
   ]
  },
  {
   "cell_type": "code",
   "execution_count": 1,
   "metadata": {},
   "outputs": [
    {
     "name": "stdout",
     "output_type": "stream",
     "text": [
      "Warning: Looks like you're using an outdated API Version, please consider updating (server 1.6.14 / client 1.6.12)\n",
      "Dataset URL: https://www.kaggle.com/datasets/benroshan/ecommerce-data\n",
      "License(s): CC0-1.0\n",
      "Downloading ecommerce-data.zip to d:\\Jupyter\\github\\my_works\\lecture\\dataset\\ecommerce\n",
      "\n"
     ]
    },
    {
     "name": "stderr",
     "output_type": "stream",
     "text": [
      "\n",
      "  0%|          | 0.00/17.9k [00:00<?, ?B/s]\n",
      "100%|██████████| 17.9k/17.9k [00:00<00:00, 589kB/s]\n"
     ]
    }
   ],
   "source": [
    "# 데이터셋 준비\n",
    "import os\n",
    "import zipfile \n",
    "\n",
    "## 다운로드\n",
    "!kaggle datasets download benroshan/ecommerce-data\n",
    "## 압축풀기\n",
    "files = os.listdir('.')\n",
    "zip_files = [file for file in files if file.endswith('.zip')]\n",
    "if zip_files:\n",
    "    data = zip_files[0][:-4]\n",
    "with zipfile.ZipFile(f'./{data}.zip', 'r') as zip:\n",
    "   zip.extractall(f'./dataset')\n",
    "## 압축파일 지우기\n",
    "os.remove(f'./{data}.zip')\n"
   ]
  }
 ],
 "metadata": {
  "kernelspec": {
   "display_name": "Python 3",
   "language": "python",
   "name": "python3"
  },
  "language_info": {
   "codemirror_mode": {
    "name": "ipython",
    "version": 3
   },
   "file_extension": ".py",
   "mimetype": "text/x-python",
   "name": "python",
   "nbconvert_exporter": "python",
   "pygments_lexer": "ipython3",
   "version": "3.12.1"
  }
 },
 "nbformat": 4,
 "nbformat_minor": 2
}
