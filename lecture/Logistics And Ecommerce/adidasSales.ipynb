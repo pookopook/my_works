{
 "cells": [
  {
   "cell_type": "markdown",
   "metadata": {},
   "source": [
    "# 아디다스 세일즈\n",
    "https://www.kaggle.com/datasets/heemalichaudhari/adidas-sales-dataset"
   ]
  },
  {
   "cell_type": "markdown",
   "metadata": {},
   "source": [
    "### About Dataset\n",
    "An Adidas sales dataset is a collection of data that includes information on the sales of Adidas products. This type of dataset may include details such as the number of units sold, the total sales revenue, the location of the sales, the type of product sold, and any other relevant information.\n",
    "\n",
    "Adidas sales data can be useful for a variety of purposes, such as analyzing sales trends, identifying successful products or marketing campaigns, and developing strategies for future sales. It can also be used to compare Adidas sales to those of competitors, or to analyze the effectiveness of different marketing or sales channels.\n",
    "\n",
    "There are a variety of sources that could potentially provide an Adidas sales dataset, including Adidas itself, market research firms, government agencies, or other organizations that track sales data. The specific data points included in an Adidas sales dataset may vary depending on the source and the purpose for which it is being used."
   ]
  },
  {
   "cell_type": "markdown",
   "metadata": {},
   "source": [
    "# 데이터셋 다운로드, 준비"
   ]
  },
  {
   "cell_type": "code",
   "execution_count": null,
   "metadata": {},
   "outputs": [
    {
     "name": "stdout",
     "output_type": "stream",
     "text": [
      "Dataset URL: https://www.kaggle.com/datasets/heemalichaudhari/adidas-sales-dataset\n",
      "License(s): CC0-1.0\n",
      "Downloading adidas-sales-dataset.zip to d:\\Jupyter\\github\\my_works\\lecture\\Logistics And Ecommerce\n",
      "\n"
     ]
    },
    {
     "name": "stderr",
     "output_type": "stream",
     "text": [
      "\n",
      "  0%|          | 0.00/661k [00:00<?, ?B/s]\n",
      "100%|██████████| 661k/661k [00:00<00:00, 1.80MB/s]\n",
      "100%|██████████| 661k/661k [00:00<00:00, 1.80MB/s]\n"
     ]
    }
   ],
   "source": [
    "# 데이터셋 준비\n",
    "import os\n",
    "import zipfile \n",
    "\n",
    "## 다운로드\n",
    "!kaggle datasets download heemalichaudhari/adidas-sales-dataset\n",
    "## 압축풀기\n",
    "files = os.listdir('.')\n",
    "zip_files = [file for file in files if file.endswith('.zip')]\n",
    "if zip_files:\n",
    "    data = zip_files[0][:-4]\n",
    "with zipfile.ZipFile(f'./{data}.zip', 'r') as zip:\n",
    "   zip.extractall(f'./dataset')\n",
    "## 압축파일 지우기\n",
    "os.remove(f'./{data}.zip')\n"
   ]
  }
 ],
 "metadata": {
  "language_info": {
   "name": "python"
  }
 },
 "nbformat": 4,
 "nbformat_minor": 2
}
