{
 "cells": [
  {
   "cell_type": "markdown",
   "metadata": {},
   "source": [
    "# 대시보드 만들기"
   ]
  },
  {
   "cell_type": "code",
   "execution_count": 95,
   "metadata": {},
   "outputs": [],
   "source": [
    "# !pip install streamlit\n",
    "# !npm install localtunnel    # node.js\n",
    "# !pip install \"ipywidgets>=7, <8\""
   ]
  },
  {
   "cell_type": "code",
   "execution_count": 3,
   "metadata": {},
   "outputs": [
    {
     "name": "stdout",
     "output_type": "stream",
     "text": [
      "Overwriting app.py\n"
     ]
    }
   ],
   "source": [
    "%%writefile app.py\n",
    "# app.py 파일을 만들어라, 셀의 내용이 들어간\n",
    "import streamlit as st\n",
    "import pandas as pd\n",
    "import numpy as np\n",
    "import plotly.express as px\n",
    "\n",
    "# 데이터 로드\n",
    "# @ 데코레이터 함수\n",
    "@st.cashe_data\n",
    "def load_data():\n",
    "    olist = pd.read_csv('./dataset/List of Orders.csv')\n",
    "    detail = pd.read_csv('./dataset/Order Details.csv')\n",
    "    data = olist.merge(detail, on = 'Order ID')\n",
    "\n",
    "    return data\n",
    "# 차트를 그릴 때마다 데이터를 새로 불러와야하는 문제를 해결\n",
    "# 캐시메모리에 load_data() 결과를 저장해놓고, 필요할 떄 여기서부터 시작함\n",
    "\n",
    "def preproc():\n",
    "    data['Order Date'] = pd.to_datetime(data['Order Date'], format = '%d-%m-%Y')\n",
    "    data['year']      = data['Order Date'].dt.year\n",
    "    data['month']     = data['Order Date'].dt.month\n",
    "    data['yearmonth'] = data['Order Date'].astype('str').str.slice(0,7)\n",
    "\n",
    "    return data\n",
    "\n",
    "def line_chart(data, x, y, title):\n",
    "    df = data.groupby(x).agg({y : 'sum'}).reset_index()\n",
    "    fig = px.line(df, x=x, y=y, title=title)\n",
    "    fig.show()\n",
    "\n",
    "    return fig\n",
    "\n",
    "def bar_chart(data, x, y, color=None):\n",
    "    if color is not None:\n",
    "        index = [x, color]\n",
    "    else :\n",
    "        index = x\n",
    "    \n",
    "    df = data.pivot_table(index = index, values = y, aggfunc = 'sum').reset_index()\n",
    "    fig = px.bar(df, x=x, y=y, color = color)\n",
    "    fig.show()\n",
    "\n",
    "    return fig\n",
    "\n",
    "def heat_map(data, z, title):\n",
    "    #df = data.pivot_table(index=['State', 'Sub-Category'], values=['Quantity', 'Amount', 'Profit']).reset_index()\n",
    "    df = data.pivot_table(index=['State', 'Sub-Category'], values=['Quantity', 'Amount']).reset_index()\n",
    "    fig = px.density_heatmap(df, x='State', y='Sub-Category', z=z, title=title)\n",
    "    fig.show()\n",
    "    return fig\n",
    "\n",
    "\n",
    "if __name__ == '__main__':\n",
    "\n",
    "    st.title([)'E-Commerce Data 분석')\n",
    "    st.write('시각화 대시보드 만들기')\n",
    "\n",
    "    #데이터 로드\n",
    "    data = load_data()\n",
    "    # 데이터 전처리\n",
    "    data = preproc()\n",
    "\n",
    "st.subheader('월별 판매량 분석')\n",
    "with st.form('form', clear_on_submit = True):\n",
    "    col1, col2 = st.columns(2)\n",
    "    submitted1 = col1.form_submit_button('판매량 그래프')\n",
    "    submitted2 = col2.form_submit_button('매출액 그래프')\n",
    "\n",
    "    if submitted1:\n",
    "        df1, fig1 = line_chart(data, 'yearmonth', 'Quantity', 'Sales Quantity by month')\n",
    "        st.dataframe(df1.T)\n",
    "        dt.plotly_chart(fig1, theme=\"streamlit\", use_container_width=True)\n",
    "    elif submitted2:\n",
    "        df2, fig2 = line_chart(data, 'yearmonth', 'Amount', 'Sales Quantity by month')\n",
    "        st.dataframe(df2.T)\n",
    "        st.plotly_chart(fig2, theme='streamlit', use_container_width=True)\n",
    "\n",
    "\n",
    "st.subheader('품목별 판매량')\n",
    "col1, col2 = st.columns(2)\n",
    "with col1:\n",
    "    col1.subheader('카테고리별 판매량')\n",
    "    fig3 = bar_chart(data, 'Category', 'Quantity')\n",
    "    st.plotly_chart(fig3, theme='streamlit',use_container_width=True)\n",
    "\n",
    "with col2:\n",
    "    col2.subheader('월별/카테고리별 누적 차트')\n",
    "    fig4 = bar_chart(data, 'yearmonth', 'Quantity','Category')\n",
    "    st.plotly_chart(fig4, theme='streamlit',use_container_width=True)\n",
    "\n",
    "\n",
    "st.subheader('지역별 주력 판매상품')\n",
    "tab1, tab2 = st.tabs(['Quantity heat map', 'Amount heat map'])\n",
    "with tab1:\n",
    "    fig5 = heatmap(data, 'Quantity', 'Quantity heat map')\n",
    "    st.plotly_chart(fig5, theme='streamlit',use_container_width=True)\n",
    "\n",
    "with tab2:\n",
    "    fig6 = heatmap(data, 'Amount', 'Amount heat map')\n",
    "    st.plotly_chart(fig6, theme='streamlit',use_container_width=True)\n",
    "\n",
    "\n",
    "    "
   ]
  },
  {
   "cell_type": "code",
   "execution_count": 17,
   "metadata": {},
   "outputs": [
    {
     "name": "stdout",
     "output_type": "stream",
     "text": [
      "^C\n"
     ]
    }
   ],
   "source": [
    "!Streamlit run app.py & npx It --port 8501"
   ]
  },
  {
   "cell_type": "code",
   "execution_count": 13,
   "metadata": {},
   "outputs": [
    {
     "data": {
      "text/plain": [
       "<Popen: returncode: None args: ['streamlit', 'run', 'app.py', '--server.port...>"
      ]
     },
     "execution_count": 13,
     "metadata": {},
     "output_type": "execute_result"
    }
   ],
   "source": [
    "import subprocess\n",
    "\n",
    "# Streamlit 애플리케이션 실행 (0.0.0.0으로 설정하여 외부 접근 허용)\n",
    "subprocess.Popen([\"streamlit\", \"run\", \"app.py\", \"--server.port\", \"8501\", \"--server.address\", \"0.0.0.0\"])\n"
   ]
  },
  {
   "cell_type": "code",
   "execution_count": 14,
   "metadata": {},
   "outputs": [
    {
     "name": "stdout",
     "output_type": "stream",
     "text": [
      "\n",
      "      Welcome to Streamlit!\n",
      "\n",
      "      If you¡¯d like to receive helpful onboarding emails, news, offers, promotions,\n",
      "      and the occasional swag, please enter your email address below. Otherwise,\n",
      "      leave this field blank.\n",
      "\n",
      "      Email:  \n",
      "2024-05-20 21:20:57.642 \n",
      "\n"
     ]
    }
   ],
   "source": [
    "import subprocess\n",
    "\n",
    "# Streamlit 애플리케이션 실행 및 로그 확인\n",
    "process = subprocess.Popen([\"streamlit\", \"run\", \"app.py\", \"--server.port\", \"8501\", \"--server.address\", \"0.0.0.0\"], stdout=subprocess.PIPE, stderr=subprocess.PIPE)\n",
    "stdout, stderr = process.communicate()\n",
    "print(stdout.decode('cp1252', errors='replace'))  # Windows 기본 인코딩 사용\n",
    "print(stderr.decode('cp1252', errors='replace'))  # Windows 기본 인코딩 사용\n"
   ]
  },
  {
   "cell_type": "code",
   "execution_count": 15,
   "metadata": {},
   "outputs": [
    {
     "name": "stdout",
     "output_type": "stream",
     "text": [
      "Local IP address: 172.20.10.6\n",
      "Access Streamlit at http://172.20.10.6:8501\n"
     ]
    }
   ],
   "source": [
    "import socket\n",
    "\n",
    "hostname = socket.gethostname()\n",
    "local_ip = socket.gethostbyname(hostname)\n",
    "print(f\"Local IP address: {local_ip}\")\n",
    "print(f\"Access Streamlit at http://{local_ip}:8501\")\n"
   ]
  },
  {
   "cell_type": "code",
   "execution_count": 16,
   "metadata": {},
   "outputs": [
    {
     "name": "stdout",
     "output_type": "stream",
     "text": [
      "Local IP address: 172.20.10.6\n",
      "Streamlit should now be running in the background.\n",
      "Access it at http://172.20.10.6:8501\n"
     ]
    }
   ],
   "source": [
    "import socket\n",
    "\n",
    "hostname = socket.gethostname()\n",
    "local_ip = socket.gethostbyname(hostname)\n",
    "print(f\"Local IP address: {local_ip}\")\n",
    "\n",
    "print(\"Streamlit should now be running in the background.\")\n",
    "print(f\"Access it at http://{local_ip}:8501\")\n"
   ]
  },
  {
   "cell_type": "markdown",
   "metadata": {},
   "source": [
    "def load_data():\n",
    "    olist = pd.read_csv('./dataset/List of Orders.csv')\n",
    "    detail = pd.read_csv('./dataset/Order Details.csv')\n",
    "    data = olist.merge(detail, on = 'Order ID')\n",
    "\n",
    "    return data\n",
    "\n",
    "def preproc():\n",
    "    data['Order Date'] = pd.to_datetime(data['Order Date'], format = '%d-%m-%Y')\n",
    "    data['year']      = data['Order Date'].dt.year\n",
    "    data['month']     = data['Order Date'].dt.month\n",
    "    data['yearmonth'] = data['Order Date'].astype('str').str.slice(0,7)\n",
    "\n",
    "    return data\n",
    "\n",
    "\n",
    "\n"
   ]
  },
  {
   "cell_type": "markdown",
   "metadata": {},
   "source": [
    "data = load_data()\n",
    "data = preproc()\n"
   ]
  },
  {
   "cell_type": "markdown",
   "metadata": {},
   "source": [
    "\n",
    "def line_chart(data, x, y, title):\n",
    "    df = data.groupby(x).agg({y : 'sum'}).reset_index()\n",
    "    fig = px.line(df, x=x, y=y, title=title)\n",
    "    fig.show()\n",
    "\n",
    "    return fig\n",
    "\n",
    "def bar_chart(data, x, y, color=None):\n",
    "    if color is not None:\n",
    "        index = [x, color]\n",
    "    else :\n",
    "        index = x\n",
    "    \n",
    "    df = data.pivot_table(index = index, values = y, aggfunc = 'sum').reset_index()\n",
    "    fig = px.bar(df, x=x, y=y, color = color)\n",
    "    fig.show()\n",
    "\n",
    "    return fig\n",
    "\n",
    "def heat_map(data, z, title):\n",
    "    #df = data.pivot_table(index=['State', 'Sub-Category'], values=['Quantity', 'Amount', 'Profit']).reset_index()\n",
    "    df = data.pivot_table(index=['State', 'Sub-Category'], values=['Quantity', 'Amount']).reset_index()\n",
    "    fig = px.density_heatmap(df, x='State', y='Sub-Category', z=z, title=title)\n",
    "    fig.show()\n",
    "    return fig"
   ]
  },
  {
   "cell_type": "markdown",
   "metadata": {},
   "source": [
    "data"
   ]
  },
  {
   "cell_type": "markdown",
   "metadata": {},
   "source": [
    "fig1 = line_chart(data, 'yearmonth', 'Quantity', 'Sales Quantity by month')"
   ]
  },
  {
   "cell_type": "markdown",
   "metadata": {},
   "source": [
    "fig3 = bar_chart(data, 'Category', 'Quantity')\n",
    "fig4 = bar_chart(data, 'yearmonth', 'Quantity', 'Category' )"
   ]
  },
  {
   "cell_type": "markdown",
   "metadata": {},
   "source": [
    "fig5 = heat_map(data, 'Quantity', 'Quantity heat map')\n",
    "fig6 = heat_map(data, 'Amount', 'Amount heat map')"
   ]
  },
  {
   "cell_type": "code",
   "execution_count": null,
   "metadata": {},
   "outputs": [],
   "source": []
  }
 ],
 "metadata": {
  "kernelspec": {
   "display_name": "Python 3 (ipykernel)",
   "language": "python",
   "name": "python3"
  },
  "language_info": {
   "codemirror_mode": {
    "name": "ipython",
    "version": 3
   },
   "file_extension": ".py",
   "mimetype": "text/x-python",
   "name": "python",
   "nbconvert_exporter": "python",
   "pygments_lexer": "ipython3",
   "version": "3.11.5"
  }
 },
 "nbformat": 4,
 "nbformat_minor": 4
}
