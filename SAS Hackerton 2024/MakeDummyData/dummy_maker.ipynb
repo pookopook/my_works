{
 "cells": [
  {
   "cell_type": "markdown",
   "metadata": {},
   "source": [
    "# SAS 해커톤에 쓰일 dummy data maker"
   ]
  },
  {
   "cell_type": "markdown",
   "metadata": {},
   "source": [
    "### 기본세팅"
   ]
  },
  {
   "cell_type": "code",
   "execution_count": 48,
   "metadata": {},
   "outputs": [],
   "source": [
    "import pandas as pd\n",
    "import numpy as np\n",
    "np.set_printoptions(threshold=10)\n",
    "from faker import Faker\n",
    "fake_ko = Faker('ko_KR')\n",
    "\n",
    "import random\n",
    "from datetime import datetime, timedelta\n",
    "from dateutil.relativedelta import relativedelta\n",
    "from collections import defaultdict"
   ]
  },
  {
   "cell_type": "code",
   "execution_count": 2,
   "metadata": {},
   "outputs": [],
   "source": [
    "# 데이터는 총 num_samples 개\n",
    "## 수급자\n",
    "num_samples = 100000\n",
    "## 종사자\n",
    "\n",
    "## 기관\n"
   ]
  },
  {
   "cell_type": "markdown",
   "metadata": {},
   "source": [
    "## 수급자 정보"
   ]
  },
  {
   "cell_type": "markdown",
   "metadata": {},
   "source": [
    "### L번호 생성"
   ]
  },
  {
   "cell_type": "code",
   "execution_count": 3,
   "metadata": {},
   "outputs": [],
   "source": [
    "# l번호 생성\n",
    "def generate_longtermcare_id():\n",
    "    prefix = 'L'\n",
    "    year = str(random.randint(8, 24)).zfill(2)  # 2자리로 만들기 위해 zfill 사용\n",
    "    middle = '00'\n",
    "    random_number = str(random.randint(0, 99999)).zfill(5)  # 6자리로 만들기 위해 zfill 사용\n",
    "    \n",
    "    # 최종 인정관리번호 생성\n",
    "    longtermcare_id = f\"{prefix}{year}{middle}{random_number}\"    \n",
    "    return longtermcare_id"
   ]
  },
  {
   "cell_type": "code",
   "execution_count": 4,
   "metadata": {},
   "outputs": [
    {
     "name": "stdout",
     "output_type": "stream",
     "text": [
      "sample: L230032066\n"
     ]
    },
    {
     "data": {
      "text/plain": [
       "((100000,), 97128)"
      ]
     },
     "execution_count": 4,
     "metadata": {},
     "output_type": "execute_result"
    }
   ],
   "source": [
    "# l번호 생성 후 저장\n",
    "print(f'sample: {generate_longtermcare_id()}')\n",
    "longtermcare_id = np.array([generate_longtermcare_id() for _ in range(num_samples)])\n",
    "longtermcare_id.shape, len(np.unique(longtermcare_id))"
   ]
  },
  {
   "cell_type": "code",
   "execution_count": 5,
   "metadata": {},
   "outputs": [
    {
     "name": "stdout",
     "output_type": "stream",
     "text": [
      "최종 고유 ID 수: 100000\n"
     ]
    }
   ],
   "source": [
    "# l번호의 중복 제거\n",
    "# 중복된 ID 찾기\n",
    "unique_ids, counts = np.unique(longtermcare_id, return_counts=True)\n",
    "duplicates = unique_ids[counts > 1]\n",
    "\n",
    "# ID별로 인덱스 저장\n",
    "id_to_indices = defaultdict(list)\n",
    "for idx, id_value in enumerate(longtermcare_id):\n",
    "    id_to_indices[id_value].append(idx)\n",
    "\n",
    "# 중복된 ID 처리\n",
    "for dup_id in duplicates:\n",
    "    indices = id_to_indices[dup_id]\n",
    "    # 첫 번째 ID는 그대로 두고, 나머지 중복된 ID 수정\n",
    "    for count, idx in enumerate(indices[1:], start=1):\n",
    "        new_middle = str(count).zfill(2)  # '01', '02', '03' 등으로 변경\n",
    "        new_id = dup_id[:3] + new_middle + dup_id[5:]\n",
    "        # 새로운 ID가 기존 ID와 중복되지 않도록 확인\n",
    "        while new_id in longtermcare_id:\n",
    "            count += 1\n",
    "            new_middle = str(count).zfill(2)\n",
    "            new_id = dup_id[:3] + new_middle + dup_id[5:]\n",
    "        # 수정된 ID를 배열에 업데이트\n",
    "        longtermcare_id[idx] = new_id\n",
    "        # ID 인덱스 매핑 업데이트\n",
    "        id_to_indices[new_id] = [idx]\n",
    "\n",
    "# 최종 고유 ID의 수 출력\n",
    "print(f\"최종 고유 ID 수: {len(np.unique(longtermcare_id))}\")"
   ]
  },
  {
   "cell_type": "markdown",
   "metadata": {},
   "source": [
    "### 이름 생성"
   ]
  },
  {
   "cell_type": "code",
   "execution_count": 6,
   "metadata": {},
   "outputs": [],
   "source": [
    "# 초성, 중성, 종성 인덱스 리스트\n",
    "#초성 = ㄱ  ㄴ ㄷ ㄹ ㅁ ㅂ  ㅅ  ㅇ ㅈ  ㅊ  ㅌ ㅍ ㅎ\n",
    "#중성 = ㅏ ㅐ ㅒ ㅓ  ㅕ  ㅗ ㅘ   ㅛ ㅜ    ㅠ ㅡ ㅢ ㅣ\n",
    "#종성 = ㄱ  ㄴ  ㄷ ㄹ   ㅁ ㅂ  ㅅ  ㅇ ㅈ \n",
    "choseong_list = [0, 2, 3, 5, 6, 7, 9, 11, 12, 14, 16, 17, 18]\n",
    "jungseong_list = [0, 1, 3, 4, 6, 8, 9, 12, 13, 17, 18, 19, 20]\n",
    "jongseong_list = [0, 1, 4, 7, 8, 16, 17, 19, 21, 22]  # 받침 없는 경우 0 포함\n",
    "jongseong_weights = [5 if jongseong == 0 else 1 for jongseong in jongseong_list]\n",
    "\n",
    "# 유니코드 한글 범위에서 종성을 분리하여 쌍자음 받침을 제외하는 함수\n",
    "def generate_random_korean_char():\n",
    "\n",
    "    choseong = random.choice(choseong_list)\n",
    "    jungseong = random.choice(jungseong_list)\n",
    "    jongseong = random.choices(jongseong_list, weights=jongseong_weights, k=1)[0]\n",
    "    \n",
    "    # 유니코드 한글 음절 계산\n",
    "    syllable_code = 0xAC00 + (choseong * 21 * 28) + (jungseong * 28) + jongseong\n",
    "    syllable_char = chr(syllable_code)\n",
    "    return syllable_char\n",
    "        \n",
    "#랜덤이름 만들기\n",
    "def generate_random_korean_name():\n",
    "    # 성만들기\n",
    "    last_name = fake_ko.last_name()\n",
    "\n",
    "    # 유니코드 한글 범위 (가~힣)\n",
    "    first_char = generate_random_korean_char()  # 초성부터 종성까지 한 글자\n",
    "    second_char = generate_random_korean_char()  # 두 번째 글자\n",
    "    # 성과 이름 결합\n",
    "    full_name = last_name + first_char + second_char\n",
    "\n",
    "    return full_name"
   ]
  },
  {
   "cell_type": "code",
   "execution_count": 7,
   "metadata": {},
   "outputs": [
    {
     "name": "stdout",
     "output_type": "stream",
     "text": [
      "sample: 오이섀\n"
     ]
    },
    {
     "data": {
      "text/plain": [
       "((100000,), 99365)"
      ]
     },
     "execution_count": 7,
     "metadata": {},
     "output_type": "execute_result"
    }
   ],
   "source": [
    "# 이름 생성\n",
    "print(f'sample: {generate_random_korean_name()}')\n",
    "name = np.array([generate_random_korean_name() for _ in range(num_samples)])\n",
    "name.shape, len(np.unique(name))"
   ]
  },
  {
   "cell_type": "markdown",
   "metadata": {},
   "source": [
    "### 생년월일 생성"
   ]
  },
  {
   "cell_type": "code",
   "execution_count": 8,
   "metadata": {},
   "outputs": [],
   "source": [
    "# 생년월일\n",
    "def generate_birthdates(min_age, max_age, std_dev, reference_date=datetime(2024, 8, 31)):\n",
    "    \"\"\"\n",
    "    지정된 나이 범위와 표준편차를 기반으로 정규분포된 나이를 생성하고,\n",
    "    해당 나이에 맞는 생년월일 리스트를 반환하는 함수입니다.\n",
    "\n",
    "    인자:\n",
    "    - min_age (int): 최소 나이\n",
    "    - max_age (int): 최대 나이\n",
    "    - std_dev (float): 나이의 표준편차\n",
    "    - reference_date (datetime): 기준 날짜 (기본값: 2024년 8월 31일)\n",
    "\n",
    "    반환값:\n",
    "    - birthdates (list): 생년월일 문자열의 리스트 (형식: 'YYYY-MM-DD')\n",
    "    \"\"\"\n",
    "    # 1. 생년월일 범위 설정\n",
    "    earliest_birthdate = reference_date - relativedelta(years=max_age)\n",
    "    latest_birthdate = reference_date - relativedelta(years=min_age)\n",
    "    \n",
    "    # 2. 전체 기간의 일 수 계산\n",
    "    total_days = (latest_birthdate - earliest_birthdate).days\n",
    "    \n",
    "    # 3. 평균 나이 및 표준편차를 일 수로 변환\n",
    "    mean_age = int((min_age + max_age) / 2)  # 정수형으로 변환\n",
    "    mean_birthdate = reference_date - relativedelta(years=mean_age)\n",
    "    mean_day_offset = (mean_birthdate - earliest_birthdate).days\n",
    "    std_dev_days = std_dev * 365.25  # 표준편차를 일 수로 변환\n",
    "\n",
    "    # 4. 정규분포를 따르는 일 수 생성\n",
    "    day_offsets = np.random.normal(loc=mean_day_offset, scale=std_dev_days, size=1)\n",
    "    day_offsets = np.clip(day_offsets, 0, total_days).astype(int)\n",
    "    \n",
    "    # 5. 생년월일 계산\n",
    "    birthdates = [earliest_birthdate + timedelta(days=int(offset)) for offset in day_offsets]\n",
    "    birthdates_str = [date.strftime('%Y-%m-%d') for date in birthdates]\n",
    "    \n",
    "    return birthdates_str\n"
   ]
  },
  {
   "cell_type": "code",
   "execution_count": 9,
   "metadata": {},
   "outputs": [
    {
     "name": "stdout",
     "output_type": "stream",
     "text": [
      "sample: ['1935-01-09']\n"
     ]
    },
    {
     "data": {
      "text/plain": [
       "((100000, 1), 11065)"
      ]
     },
     "execution_count": 9,
     "metadata": {},
     "output_type": "execute_result"
    }
   ],
   "source": [
    "# 생년월일 생성\n",
    "print(f'sample: {generate_birthdates(65, 100, 6, reference_date=datetime(2024, 8, 31))}')\n",
    "birth_day = np.array([generate_birthdates(65, 100, 6, reference_date=datetime(2024, 8, 31)) for _ in range(num_samples)])\n",
    "birth_day.shape, len(np.unique(birth_day))"
   ]
  },
  {
   "cell_type": "markdown",
   "metadata": {},
   "source": [
    "### 주소 생성"
   ]
  },
  {
   "cell_type": "markdown",
   "metadata": {},
   "source": [
    "#### get count"
   ]
  },
  {
   "cell_type": "code",
   "execution_count": 12,
   "metadata": {},
   "outputs": [],
   "source": [
    "# 지역별 인구 비율 딕셔너리\n",
    "population_distribution = {\n",
    "    '서울특별시': 18.6,\n",
    "    '경기도': 24.4,\n",
    "    '부산광역시': 6.5,\n",
    "    '인천광역시': 5.2,\n",
    "    '대구광역시': 4.7,\n",
    "    '광주광역시': 2.2,\n",
    "    '대전광역시': 3.0,\n",
    "    '울산광역시': 2.0,\n",
    "    '세종특별자치시': 0.7,\n",
    "    '강원특별자치도': 3.0,\n",
    "    '충청북도': 3.2,\n",
    "    '충청남도': 4.4,\n",
    "    '전북특별자치도': 3.5,\n",
    "    '전라남도': 3.3,\n",
    "    '경상북도': 5.0,\n",
    "    '경상남도': 7.4,\n",
    "    '제주특별자치도': 1.7\n",
    "}\n",
    "# 지역 비율을 반영한 지역 선택 함수\n",
    "def select_region_by_population():\n",
    "    regions = list(population_distribution.keys())  # 지역 리스트\n",
    "    weights = list(population_distribution.values())  # 각 지역에 대한 비율 리스트\n",
    "\n",
    "    # random.choices를 사용하여 비율에 따라 지역을 선택\n",
    "    selected_region = random.choices(regions, weights=weights, k=1)[0]\n",
    "    \n",
    "    return selected_region"
   ]
  },
  {
   "cell_type": "code",
   "execution_count": 13,
   "metadata": {},
   "outputs": [
    {
     "name": "stdout",
     "output_type": "stream",
     "text": [
      "sample: 대전광역시\n"
     ]
    },
    {
     "data": {
      "text/plain": [
       "((100000,), 17)"
      ]
     },
     "execution_count": 13,
     "metadata": {},
     "output_type": "execute_result"
    }
   ],
   "source": [
    "# 소재지 생성\n",
    "print(f'sample: {select_region_by_population()}')\n",
    "region = np.array([select_region_by_population() for _ in range(num_samples)])\n",
    "region.shape, len(np.unique(region))"
   ]
  },
  {
   "cell_type": "code",
   "execution_count": 52,
   "metadata": {},
   "outputs": [
    {
     "data": {
      "text/plain": [
       "{'강원특별자치도': 3037,\n",
       " '경기도': 24777,\n",
       " '경상남도': 7493,\n",
       " '경상북도': 5075,\n",
       " '광주광역시': 2249,\n",
       " '대구광역시': 4716,\n",
       " '대전광역시': 2987,\n",
       " '부산광역시': 6607,\n",
       " '서울특별시': 18837,\n",
       " '세종특별자치시': 704,\n",
       " '울산광역시': 1942,\n",
       " '인천광역시': 5303,\n",
       " '전라남도': 3323,\n",
       " '전북특별자치도': 3599,\n",
       " '제주특별자치도': 1710,\n",
       " '충청남도': 4399,\n",
       " '충청북도': 3242}"
      ]
     },
     "execution_count": 52,
     "metadata": {},
     "output_type": "execute_result"
    }
   ],
   "source": [
    "unique, counts = np.unique(region, return_counts=True)\n",
    "\n",
    "region_cnt = dict(zip(unique, counts))\n",
    "region_cnt"
   ]
  },
  {
   "cell_type": "markdown",
   "metadata": {},
   "source": [
    "#### get address index"
   ]
  },
  {
   "cell_type": "code",
   "execution_count": null,
   "metadata": {},
   "outputs": [
    {
     "data": {
      "text/html": [
       "<div>\n",
       "<style scoped>\n",
       "    .dataframe tbody tr th:only-of-type {\n",
       "        vertical-align: middle;\n",
       "    }\n",
       "\n",
       "    .dataframe tbody tr th {\n",
       "        vertical-align: top;\n",
       "    }\n",
       "\n",
       "    .dataframe thead th {\n",
       "        text-align: right;\n",
       "    }\n",
       "</style>\n",
       "<table border=\"1\" class=\"dataframe\">\n",
       "  <thead>\n",
       "    <tr style=\"text-align: right;\">\n",
       "      <th></th>\n",
       "      <th>SIGUNGU_CD</th>\n",
       "      <th>ENT_NO</th>\n",
       "      <th>LAWDONG_CD</th>\n",
       "      <th>SIDO_NM</th>\n",
       "      <th>SIGUNGU_NM</th>\n",
       "      <th>EUPMYUNDONG_NM</th>\n",
       "      <th>DORO_CD</th>\n",
       "      <th>DORO_NM</th>\n",
       "      <th>UNDER_YN</th>\n",
       "      <th>BUILDING_NO</th>\n",
       "      <th>BUILDING_SUB_NO</th>\n",
       "      <th>BUILDING_NM</th>\n",
       "      <th>POST_NO</th>\n",
       "      <th>BUILDING_KIND</th>\n",
       "      <th>BUILDING_GROUP_YN</th>\n",
       "      <th>HAENGJUNGDONG_NM</th>\n",
       "      <th>X_LONG</th>\n",
       "      <th>Y_LAN</th>\n",
       "      <th>GPS_LON_X</th>\n",
       "      <th>GPS_LAT_Y</th>\n",
       "    </tr>\n",
       "  </thead>\n",
       "  <tbody>\n",
       "    <tr>\n",
       "      <th>0</th>\n",
       "      <td>51110</td>\n",
       "      <td>27185</td>\n",
       "      <td>5111010100</td>\n",
       "      <td>강원특별자치도</td>\n",
       "      <td>춘천시</td>\n",
       "      <td>봉의동</td>\n",
       "      <td>511104454226</td>\n",
       "      <td>모수물길</td>\n",
       "      <td>0</td>\n",
       "      <td>11</td>\n",
       "      <td>0</td>\n",
       "      <td>NaN</td>\n",
       "      <td>24269</td>\n",
       "      <td>주택</td>\n",
       "      <td>0</td>\n",
       "      <td>소양동</td>\n",
       "      <td>1.020096e+06</td>\n",
       "      <td>1.987311e+06</td>\n",
       "      <td>127.742543</td>\n",
       "      <td>37.956362</td>\n",
       "    </tr>\n",
       "    <tr>\n",
       "      <th>1</th>\n",
       "      <td>51110</td>\n",
       "      <td>27184</td>\n",
       "      <td>5111010100</td>\n",
       "      <td>강원특별자치도</td>\n",
       "      <td>춘천시</td>\n",
       "      <td>봉의동</td>\n",
       "      <td>511104454226</td>\n",
       "      <td>모수물길</td>\n",
       "      <td>0</td>\n",
       "      <td>13</td>\n",
       "      <td>0</td>\n",
       "      <td>NaN</td>\n",
       "      <td>24269</td>\n",
       "      <td>주택</td>\n",
       "      <td>0</td>\n",
       "      <td>소양동</td>\n",
       "      <td>1.020100e+06</td>\n",
       "      <td>1.987323e+06</td>\n",
       "      <td>127.767055</td>\n",
       "      <td>37.967900</td>\n",
       "    </tr>\n",
       "    <tr>\n",
       "      <th>2</th>\n",
       "      <td>51110</td>\n",
       "      <td>19704</td>\n",
       "      <td>5111010100</td>\n",
       "      <td>강원특별자치도</td>\n",
       "      <td>춘천시</td>\n",
       "      <td>봉의동</td>\n",
       "      <td>511104454226</td>\n",
       "      <td>모수물길</td>\n",
       "      <td>0</td>\n",
       "      <td>32</td>\n",
       "      <td>0</td>\n",
       "      <td>봉의현대빌라</td>\n",
       "      <td>24249</td>\n",
       "      <td>주택</td>\n",
       "      <td>0</td>\n",
       "      <td>소양동</td>\n",
       "      <td>1.020090e+06</td>\n",
       "      <td>1.987488e+06</td>\n",
       "      <td>127.630631</td>\n",
       "      <td>37.875876</td>\n",
       "    </tr>\n",
       "    <tr>\n",
       "      <th>3</th>\n",
       "      <td>51110</td>\n",
       "      <td>19705</td>\n",
       "      <td>5111010100</td>\n",
       "      <td>강원특별자치도</td>\n",
       "      <td>춘천시</td>\n",
       "      <td>봉의동</td>\n",
       "      <td>511104454226</td>\n",
       "      <td>모수물길</td>\n",
       "      <td>0</td>\n",
       "      <td>34</td>\n",
       "      <td>0</td>\n",
       "      <td>봉의연립</td>\n",
       "      <td>24249</td>\n",
       "      <td>주택</td>\n",
       "      <td>1</td>\n",
       "      <td>소양동</td>\n",
       "      <td>1.020078e+06</td>\n",
       "      <td>1.987494e+06</td>\n",
       "      <td>127.826483</td>\n",
       "      <td>37.895621</td>\n",
       "    </tr>\n",
       "    <tr>\n",
       "      <th>4</th>\n",
       "      <td>51110</td>\n",
       "      <td>42303</td>\n",
       "      <td>5111010100</td>\n",
       "      <td>강원특별자치도</td>\n",
       "      <td>춘천시</td>\n",
       "      <td>봉의동</td>\n",
       "      <td>511104454226</td>\n",
       "      <td>모수물길</td>\n",
       "      <td>0</td>\n",
       "      <td>38</td>\n",
       "      <td>0</td>\n",
       "      <td>NaN</td>\n",
       "      <td>24249</td>\n",
       "      <td>주택</td>\n",
       "      <td>0</td>\n",
       "      <td>소양동</td>\n",
       "      <td>1.020058e+06</td>\n",
       "      <td>1.987531e+06</td>\n",
       "      <td>127.755266</td>\n",
       "      <td>37.930871</td>\n",
       "    </tr>\n",
       "    <tr>\n",
       "      <th>...</th>\n",
       "      <td>...</td>\n",
       "      <td>...</td>\n",
       "      <td>...</td>\n",
       "      <td>...</td>\n",
       "      <td>...</td>\n",
       "      <td>...</td>\n",
       "      <td>...</td>\n",
       "      <td>...</td>\n",
       "      <td>...</td>\n",
       "      <td>...</td>\n",
       "      <td>...</td>\n",
       "      <td>...</td>\n",
       "      <td>...</td>\n",
       "      <td>...</td>\n",
       "      <td>...</td>\n",
       "      <td>...</td>\n",
       "      <td>...</td>\n",
       "      <td>...</td>\n",
       "      <td>...</td>\n",
       "      <td>...</td>\n",
       "    </tr>\n",
       "    <tr>\n",
       "      <th>3696581</th>\n",
       "      <td>43800</td>\n",
       "      <td>13719</td>\n",
       "      <td>4380036000</td>\n",
       "      <td>충청북도</td>\n",
       "      <td>단양군</td>\n",
       "      <td>단성면</td>\n",
       "      <td>438004544559</td>\n",
       "      <td>월악중방길</td>\n",
       "      <td>0</td>\n",
       "      <td>106</td>\n",
       "      <td>0</td>\n",
       "      <td>NaN</td>\n",
       "      <td>27025</td>\n",
       "      <td>주택</td>\n",
       "      <td>0</td>\n",
       "      <td>단성면</td>\n",
       "      <td>1.072306e+06</td>\n",
       "      <td>1.882410e+06</td>\n",
       "      <td>128.361958</td>\n",
       "      <td>37.034431</td>\n",
       "    </tr>\n",
       "    <tr>\n",
       "      <th>3696582</th>\n",
       "      <td>43800</td>\n",
       "      <td>13718</td>\n",
       "      <td>4380036000</td>\n",
       "      <td>충청북도</td>\n",
       "      <td>단양군</td>\n",
       "      <td>단성면</td>\n",
       "      <td>438004544559</td>\n",
       "      <td>월악중방길</td>\n",
       "      <td>0</td>\n",
       "      <td>108</td>\n",
       "      <td>0</td>\n",
       "      <td>NaN</td>\n",
       "      <td>27025</td>\n",
       "      <td>주택</td>\n",
       "      <td>0</td>\n",
       "      <td>단성면</td>\n",
       "      <td>1.072292e+06</td>\n",
       "      <td>1.882400e+06</td>\n",
       "      <td>128.287641</td>\n",
       "      <td>36.941656</td>\n",
       "    </tr>\n",
       "    <tr>\n",
       "      <th>3696583</th>\n",
       "      <td>43800</td>\n",
       "      <td>13715</td>\n",
       "      <td>4380036000</td>\n",
       "      <td>충청북도</td>\n",
       "      <td>단양군</td>\n",
       "      <td>단성면</td>\n",
       "      <td>438004544559</td>\n",
       "      <td>월악중방길</td>\n",
       "      <td>0</td>\n",
       "      <td>112</td>\n",
       "      <td>0</td>\n",
       "      <td>NaN</td>\n",
       "      <td>27025</td>\n",
       "      <td>주택</td>\n",
       "      <td>0</td>\n",
       "      <td>단성면</td>\n",
       "      <td>1.072261e+06</td>\n",
       "      <td>1.882381e+06</td>\n",
       "      <td>128.213329</td>\n",
       "      <td>36.880242</td>\n",
       "    </tr>\n",
       "    <tr>\n",
       "      <th>3696584</th>\n",
       "      <td>43800</td>\n",
       "      <td>13716</td>\n",
       "      <td>4380036000</td>\n",
       "      <td>충청북도</td>\n",
       "      <td>단양군</td>\n",
       "      <td>단성면</td>\n",
       "      <td>438004544559</td>\n",
       "      <td>월악중방길</td>\n",
       "      <td>0</td>\n",
       "      <td>112</td>\n",
       "      <td>1</td>\n",
       "      <td>NaN</td>\n",
       "      <td>27025</td>\n",
       "      <td>주택</td>\n",
       "      <td>0</td>\n",
       "      <td>단성면</td>\n",
       "      <td>1.072260e+06</td>\n",
       "      <td>1.882398e+06</td>\n",
       "      <td>128.217750</td>\n",
       "      <td>36.863009</td>\n",
       "    </tr>\n",
       "    <tr>\n",
       "      <th>3696585</th>\n",
       "      <td>43800</td>\n",
       "      <td>13717</td>\n",
       "      <td>4380036000</td>\n",
       "      <td>충청북도</td>\n",
       "      <td>단양군</td>\n",
       "      <td>단성면</td>\n",
       "      <td>438004544559</td>\n",
       "      <td>월악중방길</td>\n",
       "      <td>0</td>\n",
       "      <td>112</td>\n",
       "      <td>3</td>\n",
       "      <td>NaN</td>\n",
       "      <td>27025</td>\n",
       "      <td>주택</td>\n",
       "      <td>0</td>\n",
       "      <td>단성면</td>\n",
       "      <td>1.072269e+06</td>\n",
       "      <td>1.882416e+06</td>\n",
       "      <td>128.320376</td>\n",
       "      <td>36.956241</td>\n",
       "    </tr>\n",
       "  </tbody>\n",
       "</table>\n",
       "<p>3696586 rows × 20 columns</p>\n",
       "</div>"
      ],
      "text/plain": [
       "         SIGUNGU_CD  ENT_NO  LAWDONG_CD  SIDO_NM SIGUNGU_NM EUPMYUNDONG_NM  \\\n",
       "0             51110   27185  5111010100  강원특별자치도        춘천시            봉의동   \n",
       "1             51110   27184  5111010100  강원특별자치도        춘천시            봉의동   \n",
       "2             51110   19704  5111010100  강원특별자치도        춘천시            봉의동   \n",
       "3             51110   19705  5111010100  강원특별자치도        춘천시            봉의동   \n",
       "4             51110   42303  5111010100  강원특별자치도        춘천시            봉의동   \n",
       "...             ...     ...         ...      ...        ...            ...   \n",
       "3696581       43800   13719  4380036000     충청북도        단양군            단성면   \n",
       "3696582       43800   13718  4380036000     충청북도        단양군            단성면   \n",
       "3696583       43800   13715  4380036000     충청북도        단양군            단성면   \n",
       "3696584       43800   13716  4380036000     충청북도        단양군            단성면   \n",
       "3696585       43800   13717  4380036000     충청북도        단양군            단성면   \n",
       "\n",
       "              DORO_CD DORO_NM  UNDER_YN  BUILDING_NO  BUILDING_SUB_NO  \\\n",
       "0        511104454226    모수물길         0           11                0   \n",
       "1        511104454226    모수물길         0           13                0   \n",
       "2        511104454226    모수물길         0           32                0   \n",
       "3        511104454226    모수물길         0           34                0   \n",
       "4        511104454226    모수물길         0           38                0   \n",
       "...               ...     ...       ...          ...              ...   \n",
       "3696581  438004544559   월악중방길         0          106                0   \n",
       "3696582  438004544559   월악중방길         0          108                0   \n",
       "3696583  438004544559   월악중방길         0          112                0   \n",
       "3696584  438004544559   월악중방길         0          112                1   \n",
       "3696585  438004544559   월악중방길         0          112                3   \n",
       "\n",
       "        BUILDING_NM  POST_NO BUILDING_KIND  BUILDING_GROUP_YN  \\\n",
       "0               NaN    24269            주택                  0   \n",
       "1               NaN    24269            주택                  0   \n",
       "2            봉의현대빌라    24249            주택                  0   \n",
       "3              봉의연립    24249            주택                  1   \n",
       "4               NaN    24249            주택                  0   \n",
       "...             ...      ...           ...                ...   \n",
       "3696581         NaN    27025            주택                  0   \n",
       "3696582         NaN    27025            주택                  0   \n",
       "3696583         NaN    27025            주택                  0   \n",
       "3696584         NaN    27025            주택                  0   \n",
       "3696585         NaN    27025            주택                  0   \n",
       "\n",
       "        HAENGJUNGDONG_NM        X_LONG         Y_LAN   GPS_LON_X  GPS_LAT_Y  \n",
       "0                    소양동  1.020096e+06  1.987311e+06  127.742543  37.956362  \n",
       "1                    소양동  1.020100e+06  1.987323e+06  127.767055  37.967900  \n",
       "2                    소양동  1.020090e+06  1.987488e+06  127.630631  37.875876  \n",
       "3                    소양동  1.020078e+06  1.987494e+06  127.826483  37.895621  \n",
       "4                    소양동  1.020058e+06  1.987531e+06  127.755266  37.930871  \n",
       "...                  ...           ...           ...         ...        ...  \n",
       "3696581              단성면  1.072306e+06  1.882410e+06  128.361958  37.034431  \n",
       "3696582              단성면  1.072292e+06  1.882400e+06  128.287641  36.941656  \n",
       "3696583              단성면  1.072261e+06  1.882381e+06  128.213329  36.880242  \n",
       "3696584              단성면  1.072260e+06  1.882398e+06  128.217750  36.863009  \n",
       "3696585              단성면  1.072269e+06  1.882416e+06  128.320376  36.956241  \n",
       "\n",
       "[3696586 rows x 20 columns]"
      ]
     },
     "metadata": {},
     "output_type": "display_data"
    }
   ],
   "source": [
    "## 주소 index 생성\n",
    "address = pd.read_csv('./gps_data/merged_output.csv')\n",
    "address"
   ]
  },
  {
   "cell_type": "code",
   "execution_count": 58,
   "metadata": {},
   "outputs": [
    {
     "data": {
      "text/plain": [
       "(array([['강원특별자치도', 0],\n",
       "        ['강원특별자치도', 1],\n",
       "        ['강원특별자치도', 2],\n",
       "        ...,\n",
       "        ['충청북도', 3696583],\n",
       "        ['충청북도', 3696584],\n",
       "        ['충청북도', 3696585]], dtype=object),\n",
       " 3696586,\n",
       " array(['강원특별자치도', '경기도', '경상남도', ..., '제주특별자치도', '충청남도', '충청북도'],\n",
       "       dtype=object))"
      ]
     },
     "execution_count": 58,
     "metadata": {},
     "output_type": "execute_result"
    }
   ],
   "source": [
    "# data 준비\n",
    "## address에서 sido_nm과 인덱스만 가져오기\n",
    "address_and_index = np.column_stack((address['SIDO_NM'].to_numpy(), address.index.to_numpy()))\n",
    "address_and_index, len(address_and_index), address.SIDO_NM.unique()  ## good"
   ]
  },
  {
   "cell_type": "code",
   "execution_count": 56,
   "metadata": {},
   "outputs": [
    {
     "data": {
      "text/plain": [
       "('샘플갯수', 100000, '고유값', 100000)"
      ]
     },
     "execution_count": 56,
     "metadata": {},
     "output_type": "execute_result"
    }
   ],
   "source": [
    "# 각 SIDO_NM별로 고유한 인덱스 추출\n",
    "sampled_indices = []\n",
    "\n",
    "for region, count in region_cnt.items():\n",
    "\n",
    "    # 해당 region에 속하는 인덱스들을 추출\n",
    "    region_indices = address_and_index[address_and_index[:, 0] == region][:, 1].astype(int)\n",
    "    \n",
    "    # count에 해당하는 무작위 샘플링\n",
    "    sampled = np.random.choice(region_indices, size=count, replace=False)\n",
    "    \n",
    "    # 결과를 리스트에 추가\n",
    "    sampled_indices.extend(sampled)\n",
    "\n",
    "'샘플갯수', len(sampled_indices),'고유값', len(np.unique(sampled_indices))"
   ]
  },
  {
   "cell_type": "markdown",
   "metadata": {},
   "source": [
    "#### [code rip] 생성된 주소별로 주택주소db 랜덤 인덱싱"
   ]
  },
  {
   "cell_type": "code",
   "execution_count": 37,
   "metadata": {},
   "outputs": [
    {
     "name": "stdout",
     "output_type": "stream",
     "text": [
      "Processing region 237/100000 0.24%\r"
     ]
    },
    {
     "ename": "KeyboardInterrupt",
     "evalue": "",
     "output_type": "error",
     "traceback": [
      "\u001b[1;31m---------------------------------------------------------------------------\u001b[0m",
      "\u001b[1;31mKeyboardInterrupt\u001b[0m                         Traceback (most recent call last)",
      "Cell \u001b[1;32mIn[37], line 18\u001b[0m\n\u001b[0;32m     16\u001b[0m \u001b[38;5;66;03m# 사용하지 않은 인덱스 남기기\u001b[39;00m\n\u001b[0;32m     17\u001b[0m all_indices \u001b[38;5;241m=\u001b[39m matching_addresses[:, \u001b[38;5;241m1\u001b[39m]\u001b[38;5;241m.\u001b[39mastype(\u001b[38;5;28mint\u001b[39m)  \u001b[38;5;66;03m# 인덱스 부분을 가져옴\u001b[39;00m\n\u001b[1;32m---> 18\u001b[0m available_indices \u001b[38;5;241m=\u001b[39m \u001b[43mnp\u001b[49m\u001b[38;5;241;43m.\u001b[39;49m\u001b[43msetdiff1d\u001b[49m\u001b[43m(\u001b[49m\u001b[43mall_indices\u001b[49m\u001b[43m,\u001b[49m\u001b[43m \u001b[49m\u001b[43mnp\u001b[49m\u001b[38;5;241;43m.\u001b[39;49m\u001b[43marray\u001b[49m\u001b[43m(\u001b[49m\u001b[38;5;28;43mlist\u001b[39;49m\u001b[43m(\u001b[49m\u001b[43mresult_indices\u001b[49m\u001b[43m)\u001b[49m\u001b[43m)\u001b[49m\u001b[43m)\u001b[49m  \u001b[38;5;66;03m# 사용된 인덱스 제외\u001b[39;00m\n\u001b[0;32m     20\u001b[0m     \u001b[38;5;66;03m# 일치하는 주소가 있으면 랜덤 인덱스 선택\u001b[39;00m\n\u001b[0;32m     21\u001b[0m \u001b[38;5;28;01mif\u001b[39;00m available_indices\u001b[38;5;241m.\u001b[39msize \u001b[38;5;241m>\u001b[39m \u001b[38;5;241m0\u001b[39m:\n",
      "File \u001b[1;32mc:\\Users\\pooko\\AppData\\Local\\Programs\\Python\\Python312\\Lib\\site-packages\\numpy\\lib\\arraysetops.py:979\u001b[0m, in \u001b[0;36msetdiff1d\u001b[1;34m(ar1, ar2, assume_unique)\u001b[0m\n\u001b[0;32m    977\u001b[0m     ar1 \u001b[38;5;241m=\u001b[39m np\u001b[38;5;241m.\u001b[39masarray(ar1)\u001b[38;5;241m.\u001b[39mravel()\n\u001b[0;32m    978\u001b[0m \u001b[38;5;28;01melse\u001b[39;00m:\n\u001b[1;32m--> 979\u001b[0m     ar1 \u001b[38;5;241m=\u001b[39m \u001b[43munique\u001b[49m\u001b[43m(\u001b[49m\u001b[43mar1\u001b[49m\u001b[43m)\u001b[49m\n\u001b[0;32m    980\u001b[0m     ar2 \u001b[38;5;241m=\u001b[39m unique(ar2)\n\u001b[0;32m    981\u001b[0m \u001b[38;5;28;01mreturn\u001b[39;00m ar1[in1d(ar1, ar2, assume_unique\u001b[38;5;241m=\u001b[39m\u001b[38;5;28;01mTrue\u001b[39;00m, invert\u001b[38;5;241m=\u001b[39m\u001b[38;5;28;01mTrue\u001b[39;00m)]\n",
      "File \u001b[1;32mc:\\Users\\pooko\\AppData\\Local\\Programs\\Python\\Python312\\Lib\\site-packages\\numpy\\lib\\arraysetops.py:276\u001b[0m, in \u001b[0;36munique\u001b[1;34m(ar, return_index, return_inverse, return_counts, axis, equal_nan)\u001b[0m\n\u001b[0;32m    273\u001b[0m \u001b[38;5;28;01mif\u001b[39;00m axis \u001b[38;5;129;01mis\u001b[39;00m \u001b[38;5;28;01mNone\u001b[39;00m:\n\u001b[0;32m    274\u001b[0m     ret \u001b[38;5;241m=\u001b[39m _unique1d(ar, return_index, return_inverse, return_counts, \n\u001b[0;32m    275\u001b[0m                     equal_nan\u001b[38;5;241m=\u001b[39mequal_nan)\n\u001b[1;32m--> 276\u001b[0m     \u001b[38;5;28;01mreturn\u001b[39;00m \u001b[43m_unpack_tuple\u001b[49m\u001b[43m(\u001b[49m\u001b[43mret\u001b[49m\u001b[43m)\u001b[49m\n\u001b[0;32m    278\u001b[0m \u001b[38;5;66;03m# axis was specified and not None\u001b[39;00m\n\u001b[0;32m    279\u001b[0m \u001b[38;5;28;01mtry\u001b[39;00m:\n",
      "File \u001b[1;32mc:\\Users\\pooko\\AppData\\Local\\Programs\\Python\\Python312\\Lib\\site-packages\\numpy\\lib\\arraysetops.py:125\u001b[0m, in \u001b[0;36m_unpack_tuple\u001b[1;34m(x)\u001b[0m\n\u001b[0;32m    121\u001b[0m     np\u001b[38;5;241m.\u001b[39msubtract(ary[\u001b[38;5;241m1\u001b[39m:], ary[:\u001b[38;5;241m-\u001b[39m\u001b[38;5;241m1\u001b[39m], result[l_begin:l_begin \u001b[38;5;241m+\u001b[39m l_diff])\n\u001b[0;32m    122\u001b[0m     \u001b[38;5;28;01mreturn\u001b[39;00m result\n\u001b[1;32m--> 125\u001b[0m \u001b[38;5;28;01mdef\u001b[39;00m \u001b[38;5;21m_unpack_tuple\u001b[39m(x):\n\u001b[0;32m    126\u001b[0m \u001b[38;5;250m    \u001b[39m\u001b[38;5;124;03m\"\"\" Unpacks one-element tuples for use as return values \"\"\"\u001b[39;00m\n\u001b[0;32m    127\u001b[0m     \u001b[38;5;28;01mif\u001b[39;00m \u001b[38;5;28mlen\u001b[39m(x) \u001b[38;5;241m==\u001b[39m \u001b[38;5;241m1\u001b[39m:\n",
      "\u001b[1;31mKeyboardInterrupt\u001b[0m: "
     ]
    }
   ],
   "source": [
    "# #### 속도가 너무 느려서 폐기\n",
    "# # region index 선택\n",
    "# # 중복을 제거하고\n",
    "\n",
    "# # 인덱스를 저장할 빈 배열\n",
    "# result_indices = np.array([])\n",
    "# total_region = len(region)\n",
    "\n",
    "# # 수급자 시도 정보에 대해 주소정보와 시도를 매칭하여 랜덤 인덱스 선택\n",
    "\n",
    "# for i, prs_region in enumerate(region):\n",
    "#     print(f'Processing region {i+1:6<}/{total_region} {(i+1)/(total_region)*100:.2f}%', end='\\r')\n",
    "\n",
    "#     # 수급자 시와 일치하는 주소 목록 필터링\n",
    "#     matching_addresses = address_and_index[address_and_index[:, 0] == prs_region]\n",
    "\n",
    "#     # 사용하지 않은 인덱스 남기기\n",
    "#     all_indices = matching_addresses[:, 1].astype(int)  # 인덱스 부분을 가져옴\n",
    "#     available_indices = np.setdiff1d(all_indices, np.array(list(result_indices)))  # 사용된 인덱스 제외\n",
    "    \n",
    "#         # 일치하는 주소가 있으면 랜덤 인덱스 선택\n",
    "#     if available_indices.size > 0:\n",
    "#         random_index = np.random.choice(available_indices)  # 랜덤 선택 <-numpy 선택 방식\n",
    "#             #try1: random_index = random.choice(matching_addresses['Index'].tolist()) <-- 내장 리스트 방식\n",
    "#             #try2: random_index = matching_addresses.sample(n=1).index[0]  <-- pd sample 선택 방식\n",
    "#             # 둘다 속도 너무 느림...\n",
    "#         result_indices = np.append(result_indices, random_index)  # 선택한 인덱스를 넘파이 배열에 추가\n",
    "\n",
    "#     else:\n",
    "#         print('address is full!!')\n",
    "#         break\n",
    "# result_indices, result_indices.shape "
   ]
  },
  {
   "cell_type": "markdown",
   "metadata": {},
   "source": [
    "### 등급 생성"
   ]
  },
  {
   "cell_type": "code",
   "execution_count": 70,
   "metadata": {},
   "outputs": [
    {
     "data": {
      "text/plain": [
       "('result:', array([4, 1, 4, ..., 4, 4, 5]), (100000,), array([1, 2, 3, 4, 5]))"
      ]
     },
     "execution_count": 70,
     "metadata": {},
     "output_type": "execute_result"
    }
   ],
   "source": [
    "# 각 등급별로 랜덤 샘플링\n",
    "grade_list = np.arange(1, 6) ## 1~5\n",
    "grade_ratio = [4.2, 7.8, 24.0, 40.9, 10.3]\n",
    "grade_ratio = np.array(grade_ratio) / 100 * num_samples\n",
    "grade_ratio = grade_ratio / grade_ratio.sum()\n",
    "grade = np.random.choice(grade_list, size=num_samples, p=grade_ratio)\n",
    "'result:', grade, grade.shape, np.unique(grade)"
   ]
  },
  {
   "cell_type": "code",
   "execution_count": null,
   "metadata": {},
   "outputs": [],
   "source": []
  }
 ],
 "metadata": {
  "kernelspec": {
   "display_name": "Python 3",
   "language": "python",
   "name": "python3"
  },
  "language_info": {
   "codemirror_mode": {
    "name": "ipython",
    "version": 3
   },
   "file_extension": ".py",
   "mimetype": "text/x-python",
   "name": "python",
   "nbconvert_exporter": "python",
   "pygments_lexer": "ipython3",
   "version": "3.12.1"
  }
 },
 "nbformat": 4,
 "nbformat_minor": 2
}
