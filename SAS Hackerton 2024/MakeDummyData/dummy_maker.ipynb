{
 "cells": [
  {
   "cell_type": "markdown",
   "metadata": {},
   "source": [
    "# SAS 해커톤에 쓰일 dummy data maker"
   ]
  },
  {
   "cell_type": "code",
   "execution_count": 186,
   "metadata": {},
   "outputs": [],
   "source": [
    "import pandas as pd\n",
    "import numpy as np\n",
    "from faker import Faker\n",
    "import random\n",
    "from datetime import datetime, timedelta\n",
    "from dateutil.relativedelta import relativedelta\n",
    "from collections import defaultdict"
   ]
  },
  {
   "cell_type": "code",
   "execution_count": 3,
   "metadata": {},
   "outputs": [],
   "source": [
    "fake_ko = Faker('ko_KR')"
   ]
  },
  {
   "cell_type": "code",
   "execution_count": 126,
   "metadata": {},
   "outputs": [],
   "source": [
    "# 데이터는 총 num_samples 개\n",
    "num_samples = 100000"
   ]
  },
  {
   "cell_type": "code",
   "execution_count": 173,
   "metadata": {},
   "outputs": [],
   "source": [
    "# l번호 생성\n",
    "def generate_longtermcare_id():\n",
    "    prefix = 'L'\n",
    "    year = str(random.randint(8, 24)).zfill(2)  # 2자리로 만들기 위해 zfill 사용\n",
    "    middle = '00'\n",
    "    random_number = str(random.randint(0, 99999)).zfill(5)  # 6자리로 만들기 위해 zfill 사용\n",
    "    \n",
    "    # 최종 인정관리번호 생성\n",
    "    longtermcare_id = f\"{prefix}{year}{middle}{random_number}\"    \n",
    "    return longtermcare_id"
   ]
  },
  {
   "cell_type": "code",
   "execution_count": 184,
   "metadata": {},
   "outputs": [
    {
     "name": "stdout",
     "output_type": "stream",
     "text": [
      "sample: L180014027\n"
     ]
    },
    {
     "data": {
      "text/plain": [
       "((100000,), 97066)"
      ]
     },
     "execution_count": 184,
     "metadata": {},
     "output_type": "execute_result"
    }
   ],
   "source": [
    "# l번호 생성 후 저장\n",
    "print(f'sample: {generate_longtermcare_id()}')\n",
    "longtermcare_id = np.array([generate_longtermcare_id() for _ in range(num_samples)])\n",
    "longtermcare_id.shape, len(np.unique(longtermcare_id))"
   ]
  },
  {
   "cell_type": "code",
   "execution_count": 187,
   "metadata": {},
   "outputs": [
    {
     "name": "stdout",
     "output_type": "stream",
     "text": [
      "최종 고유 ID 수: 100000\n"
     ]
    }
   ],
   "source": [
    "# l번호의 중복 제거\n",
    "# 중복된 ID 찾기\n",
    "unique_ids, counts = np.unique(longtermcare_id, return_counts=True)\n",
    "duplicates = unique_ids[counts > 1]\n",
    "\n",
    "# ID별로 인덱스 저장\n",
    "id_to_indices = defaultdict(list)\n",
    "for idx, id_value in enumerate(longtermcare_id):\n",
    "    id_to_indices[id_value].append(idx)\n",
    "\n",
    "# 중복된 ID 처리\n",
    "for dup_id in duplicates:\n",
    "    indices = id_to_indices[dup_id]\n",
    "    # 첫 번째 ID는 그대로 두고, 나머지 중복된 ID 수정\n",
    "    for count, idx in enumerate(indices[1:], start=1):\n",
    "        new_middle = str(count).zfill(2)  # '01', '02', '03' 등으로 변경\n",
    "        new_id = dup_id[:3] + new_middle + dup_id[5:]\n",
    "        # 새로운 ID가 기존 ID와 중복되지 않도록 확인\n",
    "        while new_id in longtermcare_id:\n",
    "            count += 1\n",
    "            new_middle = str(count).zfill(2)\n",
    "            new_id = dup_id[:3] + new_middle + dup_id[5:]\n",
    "        # 수정된 ID를 배열에 업데이트\n",
    "        longtermcare_id[idx] = new_id\n",
    "        # ID 인덱스 매핑 업데이트\n",
    "        id_to_indices[new_id] = [idx]\n",
    "\n",
    "# 최종 고유 ID의 수 출력\n",
    "print(f\"최종 고유 ID 수: {len(np.unique(longtermcare_id))}\")"
   ]
  },
  {
   "cell_type": "code",
   "execution_count": 118,
   "metadata": {},
   "outputs": [],
   "source": [
    "# 초성, 중성, 종성 인덱스 리스트\n",
    "#초성 = ㄱ  ㄴ ㄷ ㄹ ㅁ ㅂ  ㅅ  ㅇ ㅈ  ㅊ  ㅌ ㅍ ㅎ\n",
    "#중성 = ㅏ ㅐ ㅒ ㅓ  ㅕ  ㅗ ㅘ   ㅛ ㅜ    ㅠ ㅡ ㅢ ㅣ\n",
    "#종성 = ㄱ  ㄴ  ㄷ ㄹ   ㅁ ㅂ  ㅅ  ㅇ ㅈ \n",
    "choseong_list = [0, 2, 3, 5, 6, 7, 9, 11, 12, 14, 16, 17, 18]\n",
    "jungseong_list = [0, 1, 3, 4, 6, 8, 9, 12, 13, 17, 18, 19, 20]\n",
    "jongseong_list = [0, 1, 4, 7, 8, 16, 17, 19, 21, 22]  # 받침 없는 경우 0 포함\n",
    "jongseong_weights = [5 if jongseong == 0 else 1 for jongseong in jongseong_list]\n",
    "\n",
    "# 유니코드 한글 범위에서 종성을 분리하여 쌍자음 받침을 제외하는 함수\n",
    "def generate_random_korean_char():\n",
    "\n",
    "    choseong = random.choice(choseong_list)\n",
    "    jungseong = random.choice(jungseong_list)\n",
    "    jongseong = random.choices(jongseong_list, weights=jongseong_weights, k=1)[0]\n",
    "        # 유니코드 한글 음절 계산\n",
    "    syllable_code = 0xAC00 + (choseong * 21 * 28) + (jungseong * 28) + jongseong\n",
    "    syllable_char = chr(syllable_code)\n",
    "    return syllable_char\n",
    "        \n",
    "#랜덤이름 만들기\n",
    "def generate_random_korean_name():\n",
    "    # 성만들기\n",
    "    last_name = fake_ko.last_name()\n",
    "\n",
    "    # 유니코드 한글 범위 (가~힣)\n",
    "    first_char = generate_random_korean_char()  # 초성부터 종성까지 한 글자\n",
    "    second_char = generate_random_korean_char()  # 두 번째 글자\n",
    "    # 성과 이름 결합\n",
    "    full_name = last_name + first_char + second_char\n",
    "\n",
    "    return full_name"
   ]
  },
  {
   "cell_type": "code",
   "execution_count": 119,
   "metadata": {},
   "outputs": [
    {
     "name": "stdout",
     "output_type": "stream",
     "text": [
      "sample: 김팜순\n"
     ]
    },
    {
     "data": {
      "text/plain": [
       "((300000,), 294808)"
      ]
     },
     "execution_count": 119,
     "metadata": {},
     "output_type": "execute_result"
    }
   ],
   "source": [
    "# 이름 생성\n",
    "print(f'sample: {generate_random_korean_name()}')\n",
    "name = np.array([generate_random_korean_name() for _ in range(num_samples)])\n",
    "name.shape, len(np.unique(name))"
   ]
  },
  {
   "cell_type": "code",
   "execution_count": 136,
   "metadata": {},
   "outputs": [],
   "source": [
    "# 생년월일\n",
    "def generate_birthdates(min_age, max_age, std_dev, reference_date=datetime(2024, 8, 31)):\n",
    "    \"\"\"\n",
    "    지정된 나이 범위와 표준편차를 기반으로 정규분포된 나이를 생성하고,\n",
    "    해당 나이에 맞는 생년월일 리스트를 반환하는 함수입니다.\n",
    "\n",
    "    인자:\n",
    "    - min_age (int): 최소 나이\n",
    "    - max_age (int): 최대 나이\n",
    "    - std_dev (float): 나이의 표준편차\n",
    "    - reference_date (datetime): 기준 날짜 (기본값: 2024년 8월 31일)\n",
    "\n",
    "    반환값:\n",
    "    - birthdates (list): 생년월일 문자열의 리스트 (형식: 'YYYY-MM-DD')\n",
    "    \"\"\"\n",
    "    # 1. 생년월일 범위 설정\n",
    "    earliest_birthdate = reference_date - relativedelta(years=max_age)\n",
    "    latest_birthdate = reference_date - relativedelta(years=min_age)\n",
    "    \n",
    "    # 2. 전체 기간의 일 수 계산\n",
    "    total_days = (latest_birthdate - earliest_birthdate).days\n",
    "    \n",
    "    # 3. 평균 나이 및 표준편차를 일 수로 변환\n",
    "    mean_age = int((min_age + max_age) / 2)  # 정수형으로 변환\n",
    "    mean_birthdate = reference_date - relativedelta(years=mean_age)\n",
    "    mean_day_offset = (mean_birthdate - earliest_birthdate).days\n",
    "    std_dev_days = std_dev * 365.25  # 표준편차를 일 수로 변환\n",
    "\n",
    "    # 4. 정규분포를 따르는 일 수 생성\n",
    "    day_offsets = np.random.normal(loc=mean_day_offset, scale=std_dev_days, size=1)\n",
    "    day_offsets = np.clip(day_offsets, 0, total_days).astype(int)\n",
    "    \n",
    "    # 5. 생년월일 계산\n",
    "    birthdates = [earliest_birthdate + timedelta(days=int(offset)) for offset in day_offsets]\n",
    "    birthdates_str = [date.strftime('%Y-%m-%d') for date in birthdates]\n",
    "    \n",
    "    return birthdates_str\n"
   ]
  },
  {
   "cell_type": "code",
   "execution_count": 220,
   "metadata": {},
   "outputs": [
    {
     "name": "stdout",
     "output_type": "stream",
     "text": [
      "sample: ['1944-09-16']\n"
     ]
    },
    {
     "data": {
      "text/plain": [
       "((100000, 1), 11084)"
      ]
     },
     "execution_count": 220,
     "metadata": {},
     "output_type": "execute_result"
    }
   ],
   "source": [
    "# 생년월일 생성\n",
    "print(f'sample: {generate_birthdates(65, 100, 6, reference_date=datetime(2024, 8, 31))}')\n",
    "birth_day = np.array([generate_birthdates(65, 100, 6, reference_date=datetime(2024, 8, 31)) for _ in range(num_samples)])\n",
    "birth_day.shape, len(np.unique(birth_day))"
   ]
  },
  {
   "cell_type": "code",
   "execution_count": null,
   "metadata": {},
   "outputs": [],
   "source": [
    "address = pd.read_csv('./gps_data/merged_output.csv')\n",
    "address"
   ]
  },
  {
   "cell_type": "code",
   "execution_count": 197,
   "metadata": {},
   "outputs": [
    {
     "data": {
      "text/plain": [
       "array(['강원특별자치도', '경기도', '경상남도', '경상북도', '광주광역시', '대구광역시', '대전광역시',\n",
       "       '부산광역시', '서울특별시', '세종특별자치시', '울산광역시', '인천광역시', '전라남도', '전북특별자치도',\n",
       "       '제주특별자치도', '충청남도', '충청북도'], dtype=object)"
      ]
     },
     "execution_count": 197,
     "metadata": {},
     "output_type": "execute_result"
    }
   ],
   "source": [
    "address.SIDO_NM.unique()"
   ]
  },
  {
   "cell_type": "code",
   "execution_count": 219,
   "metadata": {},
   "outputs": [],
   "source": [
    "# 지역별 인구 비율 딕셔너리\n",
    "population_distribution = {\n",
    "    '서울특별시': 18.6,\n",
    "    '경기도': 24.4,\n",
    "    '부산광역시': 6.5,\n",
    "    '인천광역시': 5.2,\n",
    "    '대구광역시': 4.7,\n",
    "    '광주광역시': 2.2,\n",
    "    '대전광역시': 3.0,\n",
    "    '울산광역시': 2.0,\n",
    "    '세종특별자치시': 0.7,\n",
    "    '강원특별자치도': 3.0,\n",
    "    '충청북도': 3.2,\n",
    "    '충청남도': 4.4,\n",
    "    '전북특별자치도': 3.5,\n",
    "    '전라남도': 3.3,\n",
    "    '경상북도': 5.0,\n",
    "    '경상남도': 7.4,\n",
    "    '제주특별자치도': 1.7\n",
    "}\n",
    "# 지역 비율을 반영한 지역 선택 함수\n",
    "def select_region_by_population():\n",
    "    regions = list(population_distribution.keys())  # 지역 리스트\n",
    "    weights = list(population_distribution.values())  # 각 지역에 대한 비율 리스트\n",
    "\n",
    "    # random.choices를 사용하여 비율에 따라 지역을 선택\n",
    "    selected_region = random.choices(regions, weights=weights, k=1)[0]\n",
    "    \n",
    "    return selected_region"
   ]
  },
  {
   "cell_type": "code",
   "execution_count": 221,
   "metadata": {},
   "outputs": [
    {
     "name": "stdout",
     "output_type": "stream",
     "text": [
      "sample: 충청남도\n"
     ]
    },
    {
     "data": {
      "text/plain": [
       "((100000,), 17)"
      ]
     },
     "execution_count": 221,
     "metadata": {},
     "output_type": "execute_result"
    }
   ],
   "source": [
    "# 소재지 생성\n",
    "print(f'sample: {select_region_by_population()}')\n",
    "region = np.array([select_region_by_population() for _ in range(num_samples)])\n",
    "region.shape, len(np.unique(region))"
   ]
  },
  {
   "cell_type": "code",
   "execution_count": 236,
   "metadata": {},
   "outputs": [
    {
     "name": "stdout",
     "output_type": "stream",
     "text": [
      "경기도: 24682개\n",
      "서울특별시: 18464개\n",
      "경상남도: 7462개\n",
      "부산광역시: 6532개\n",
      "인천광역시: 5301개\n",
      "경상북도: 5130개\n",
      "대구광역시: 4866개\n",
      "충청남도: 4570개\n",
      "전북특별자치도: 3642개\n",
      "전라남도: 3288개\n",
      "충청북도: 3267개\n",
      "강원특별자치도: 3069개\n",
      "대전광역시: 3035개\n",
      "광주광역시: 2211개\n",
      "울산광역시: 1988개\n",
      "제주특별자치도: 1736개\n",
      "세종특별자치시: 757개\n"
     ]
    },
    {
     "ename": "AttributeError",
     "evalue": "'tuple' object has no attribute 'values'",
     "output_type": "error",
     "traceback": [
      "\u001b[1;31m---------------------------------------------------------------------------\u001b[0m",
      "\u001b[1;31mAttributeError\u001b[0m                            Traceback (most recent call last)",
      "Cell \u001b[1;32mIn[236], line 6\u001b[0m\n\u001b[0;32m      4\u001b[0m \u001b[38;5;28;01mfor\u001b[39;00m idx \u001b[38;5;129;01min\u001b[39;00m sorted_indices:\n\u001b[0;32m      5\u001b[0m     \u001b[38;5;28mprint\u001b[39m(\u001b[38;5;124mf\u001b[39m\u001b[38;5;124m'\u001b[39m\u001b[38;5;132;01m{\u001b[39;00munique_elements[idx]\u001b[38;5;132;01m}\u001b[39;00m\u001b[38;5;124m: \u001b[39m\u001b[38;5;132;01m{\u001b[39;00mcounts[idx]\u001b[38;5;132;01m}\u001b[39;00m\u001b[38;5;124m개\u001b[39m\u001b[38;5;124m'\u001b[39m)\n\u001b[1;32m----> 6\u001b[0m \u001b[38;5;28mprint\u001b[39m(\u001b[38;5;124mf\u001b[39m\u001b[38;5;124m'\u001b[39m\u001b[38;5;132;01m{\u001b[39;00m\u001b[43mregion\u001b[49m\u001b[38;5;241;43m.\u001b[39;49m\u001b[43mshape\u001b[49m\u001b[38;5;241;43m.\u001b[39;49m\u001b[43mvalues\u001b[49m\u001b[38;5;132;01m}\u001b[39;00m\u001b[38;5;124m'\u001b[39m)\n",
      "\u001b[1;31mAttributeError\u001b[0m: 'tuple' object has no attribute 'values'"
     ]
    }
   ],
   "source": [
    "unique_elements, counts = np.unique(region, return_counts=True)\n",
    "sorted_indices = np.argsort(counts)[::-1]\n",
    "# 결과 출력\n",
    "for idx in sorted_indices:\n",
    "    print(f'{unique_elements[idx]}: {counts[idx]}개')\n",
    "print(f'{region.shape.values}')\n"
   ]
  },
  {
   "cell_type": "code",
   "execution_count": null,
   "metadata": {},
   "outputs": [],
   "source": []
  }
 ],
 "metadata": {
  "kernelspec": {
   "display_name": "Python 3",
   "language": "python",
   "name": "python3"
  },
  "language_info": {
   "codemirror_mode": {
    "name": "ipython",
    "version": 3
   },
   "file_extension": ".py",
   "mimetype": "text/x-python",
   "name": "python",
   "nbconvert_exporter": "python",
   "pygments_lexer": "ipython3",
   "version": "3.12.1"
  }
 },
 "nbformat": 4,
 "nbformat_minor": 2
}
